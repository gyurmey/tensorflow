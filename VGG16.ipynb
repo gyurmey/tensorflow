{
  "nbformat": 4,
  "nbformat_minor": 0,
  "metadata": {
    "colab": {
      "provenance": [],
      "authorship_tag": "ABX9TyMjv1J4euEIL62vSEJhJeVJ",
      "include_colab_link": true
    },
    "kernelspec": {
      "name": "python3",
      "display_name": "Python 3"
    },
    "language_info": {
      "name": "python"
    }
  },
  "cells": [
    {
      "cell_type": "markdown",
      "metadata": {
        "id": "view-in-github",
        "colab_type": "text"
      },
      "source": [
        "<a href=\"https://colab.research.google.com/github/gyurmey/tensorflow/blob/main/VGG16.ipynb\" target=\"_parent\"><img src=\"https://colab.research.google.com/assets/colab-badge.svg\" alt=\"Open In Colab\"/></a>"
      ]
    },
    {
      "cell_type": "code",
      "execution_count": null,
      "metadata": {
        "colab": {
          "base_uri": "https://localhost:8080/",
          "height": 1000
        },
        "id": "G03DnDBJNhUk",
        "outputId": "be5121ce-a9e1-478c-f99d-ebf2c0def291"
      },
      "outputs": [
        {
          "metadata": {
            "tags": null
          },
          "name": "stdout",
          "output_type": "stream",
          "text": [
            "Downloading data from https://storage.googleapis.com/tensorflow/tf-keras-datasets/mnist.npz\n",
            "11490434/11490434 [==============================] - 0s 0us/step\n"
          ]
        },
        {
          "data": {
            "image/png": "[encoded data removed]",
            "text/plain": [
              "<Figure size 640x480 with 1 Axes>"
            ]
          },
          "metadata": {},
          "output_type": "display_data"
        },
        {
          "data": {
            "image/png": "[encoded data removed]",
            "text/plain": [
              "<Figure size 640x480 with 1 Axes>"
            ]
          },
          "metadata": {},
          "output_type": "display_data"
        },
        {
          "output_type": "stream",
          "name": "stdout",
          "text": [
            "Epoch 1/20\n",
            "1688/1688 [==============================] - 2476s 1s/step - loss: 0.2204 - accuracy: 0.9417 - val_loss: 0.2419 - val_accuracy: 0.9503\n",
            "Epoch 2/20\n",
            "1688/1688 [==============================] - 2402s 1s/step - loss: 0.0851 - accuracy: 0.9771 - val_loss: 0.0941 - val_accuracy: 0.9748\n",
            "Epoch 3/20\n",
            "1688/1688 [==============================] - 2352s 1s/step - loss: 0.0718 - accuracy: 0.9811 - val_loss: 0.0406 - val_accuracy: 0.9882\n",
            "Epoch 4/20\n",
            "1688/1688 [==============================] - 2434s 1s/step - loss: 0.0598 - accuracy: 0.9843 - val_loss: 0.0635 - val_accuracy: 0.9828\n",
            "Epoch 5/20\n",
            "1688/1688 [==============================] - 2418s 1s/step - loss: 0.0552 - accuracy: 0.9855 - val_loss: 0.0531 - val_accuracy: 0.9883\n",
            "Epoch 6/20\n",
            "1688/1688 [==============================] - 2350s 1s/step - loss: 0.0477 - accuracy: 0.9870 - val_loss: 0.0488 - val_accuracy: 0.9870\n",
            "Epoch 7/20\n",
            "1688/1688 [==============================] - 2281s 1s/step - loss: 0.0505 - accuracy: 0.9864 - val_loss: 0.0446 - val_accuracy: 0.9875\n",
            "Epoch 8/20\n",
            "1688/1688 [==============================] - 2229s 1s/step - loss: 0.0418 - accuracy: 0.9884 - val_loss: 0.0861 - val_accuracy: 0.9808\n",
            "Epoch 9/20\n",
            "1688/1688 [==============================] - 2244s 1s/step - loss: 0.0455 - accuracy: 0.9875 - val_loss: 0.0513 - val_accuracy: 0.9872\n",
            "Epoch 10/20\n",
            " 570/1688 [=========>....................] - ETA: 23:44 - loss: 0.0431 - accuracy: 0.9880"
          ]
        }
      ],
      "source": [
        "import numpy as np\n",
        "import tensorflow as tf\n",
        "from tensorflow import keras\n",
        "from tensorflow.keras import layers, models, datasets\n",
        "from sklearn.metrics import classification_report, confusion_matrix\n",
        "import matplotlib.pyplot as plt\n",
        "\n",
        "# Load the MNIST dataset\n",
        "(train_images, train_labels), (test_images, test_labels) = datasets.mnist.load_data()\n",
        "\n",
        "     \n",
        "# add 5% Gaussian noise to the images in the training and testing datasets\n",
        "\n",
        "\n",
        "# Add 5% Gaussian noise to the images\n",
        "noise_factor = 0.05\n",
        "train_images_noisy = train_images + noise_factor * np.random.normal(loc=0.0, scale=1.0, size=train_images.shape)\n",
        "test_images_noisy = test_images + noise_factor * np.random.normal(loc=0.0, scale=1.0, size=test_images.shape)\n",
        "\n",
        "# Clip the noisy images to ensure that pixel values are between 0 and 1\n",
        "train_images_noisy = np.clip(train_images_noisy, 0., 1.)\n",
        "test_images_noisy = np.clip(test_images_noisy, 0., 1.)\n",
        "\n",
        "     \n",
        "# a single image from the dataset with and without noise:\n",
        "\n",
        "\n",
        "# Plot a single clean image\n",
        "plt.figure()\n",
        "plt.imshow(train_images[0], cmap='gray')\n",
        "plt.title('Clean image')\n",
        "plt.show()\n",
        "\n",
        "# Plot the same image with added noise\n",
        "plt.figure()\n",
        "plt.imshow(train_images_noisy[0], cmap='gray')\n",
        "plt.title('Noisy image')\n",
        "plt.show()\n",
        "\n",
        "     \n",
        "# define the VGG16 model and train it on both the clean and noisy datasets:\n",
        "\n",
        "\n",
        "# Define the VGG16 model\n",
        "model = models.Sequential([\n",
        "    layers.Conv2D(64, (3, 3), activation='relu', padding='same', input_shape=(28, 28, 1)),\n",
        "    layers.Conv2D(64, (3, 3), activation='relu', padding='same'),\n",
        "    layers.MaxPooling2D(pool_size=(2, 2)),\n",
        "    layers.Conv2D(128, (3, 3), activation='relu', padding='same'),\n",
        "    layers.Conv2D(128, (3, 3), activation='relu', padding='same'),\n",
        "    layers.MaxPooling2D(pool_size=(2, 2)),\n",
        "    layers.Conv2D(256, (3, 3), activation='relu', padding='same'),\n",
        "    layers.Conv2D(256, (3, 3), activation='relu', padding='same'),\n",
        "    layers.Conv2D(256, (3, 3), activation='relu', padding='same'),\n",
        "    layers.MaxPooling2D(pool_size=(2, 2)),\n",
        "    layers.Flatten(),\n",
        "    layers.Dense(4096, activation='relu'),\n",
        "    layers.Dense(4096, activation='relu'),\n",
        "    layers.Dense(10, activation='softmax')\n",
        "])\n",
        "\n",
        "# Compile the model\n",
        "model.compile(optimizer='adam',\n",
        "              loss='sparse_categorical_crossentropy',\n",
        "              metrics=['accuracy'])\n",
        "\n",
        "# Train the model on clean images\n",
        "history_clean = model.fit(train_images.reshape(-1, 28, 28, 1), train_labels, epochs=20, validation_split=0.1)\n",
        "\n",
        "# Train the model on noisy images\n",
        "history_noisy = model.fit(train_images_noisy.reshape(-1, 28, 28, 1), train_labels, epochs=20, validation_split=0.1)\n",
        "\n",
        "     \n",
        "# evaluate its performance using the test dataset:\n",
        "\n",
        "\n",
        "# Evaluate the model on clean images\n",
        "test_loss_clean, test_acc_clean = model.evaluate(test_images.reshape(-1, 28, 28, 1), test_labels, verbose=0)\n",
        "print(f'Clean images - Test loss: {test_loss_clean:.4f}, Test accuracy: {test_acc_clean:.4f}')\n",
        "\n",
        "# Evaluate the model on noisy images\n",
        "test_loss_noisy, test_acc_noisy = model.evaluate(test_images_noisy.reshape(-1, 28, 28, 1), test_labels, verbose=0)\n",
        "print(f'Noisy images - Test loss: {test_loss_noisy:.4f}, Test accuracy: {test_acc_noisy:.4f}')\n",
        "\n",
        "     \n",
        "# calculate the precision, recall, and confusion matrix using scikit-learn\n",
        "\n",
        "\n",
        "# Make predictions on the test dataset\n",
        "test_preds = np.argmax(model.predict(test_images_noisy.reshape(-1, 28, 28, 1)), axis=-1)\n",
        "\n",
        "# Print the classification report and confusion matrix\n",
        "print(classification_report(test_labels, test_preds))\n",
        "print(confusion_matrix(test_labels, test_preds))\n",
        "\n",
        "     \n",
        "# plot the loss and accuracy curves for both the clean and noisy datasets\n",
        "\n",
        "\n",
        "# Plot the training and validation loss for clean and noisy datasets\n",
        "plt.plot(history_clean.history['loss'], label='Clean train')\n",
        "plt.plot(history_clean.history['val_loss'], label='Clean val')\n",
        "plt.plot(history_noisy.history['loss'], label='Noisy train')\n",
        "plt.plot(history_noisy.history['val_loss'], label='Noisy val')\n",
        "plt.title('Loss')\n",
        "plt.xlabel('Epoch')\n",
        "plt.legend()\n",
        "plt.show()\n"
      ]
    },
    {
      "cell_type": "code",
      "source": [],
      "metadata": {
        "id": "fZPL3giRNinY"
      },
      "execution_count": null,
      "outputs": []
    }
  ]
}